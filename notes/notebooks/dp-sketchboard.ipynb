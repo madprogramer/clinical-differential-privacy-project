{
  "cells": [
    {
      "cell_type": "raw",
      "metadata": {},
      "source": [
        "---\n",
        "title: dp-compare\n",
        "author: Ahmet Akkoc\n",
        "format: docx\n",
        "editor: visual\n",
        "---"
      ],
      "id": "af788e1e"
    },
    {
      "cell_type": "markdown",
      "metadata": {},
      "source": [
        "## Quarto\n",
        "\n",
        "Quarto enables you to weave together content and executable code into a finished document. To learn more about Quarto see <https://quarto.org>.\n",
        "\n",
        "## Running Code\n",
        "\n",
        "When you click the **Render** button a document will be generated that includes both content and the output of embedded code. You can embed code like this:\n"
      ],
      "id": "761f0578"
    },
    {
      "cell_type": "code",
      "metadata": {},
      "source": [
        "# Libraries\n",
        "library(diffpriv) #diffpriv\n",
        "library(tidyverse) #Standard for Data Science\n",
        "library(tidymodels) #tidyverse extension\n",
        "library(survival) #survival analysis\n",
        "library(dplyr)\n",
        "library(tidyr)\n",
        "\n",
        "#Density Estimation\n",
        "library(kde1d)\n",
        "library(overlapping)\n",
        "library(infotheo)\n",
        "\n",
        "# Loading Data\n",
        "DF_Biobank <- read.csv('data/sample.csv',sep = \";\")\n",
        "Biobank <- as_tibble(file)\n",
        "\n",
        "print(\n",
        "paste('Visits in Dataset: ',dim(Biobank)[1],'Columns per patient: ',dim(Biobank)[2]))\n",
        "\n",
        "# Preprocessing\n",
        "Biobank$sex <- as.factor(Biobank$sex)\n",
        "levels(Biobank$sex) <- c('Male','Female')\n",
        "\n",
        "head(Biobank)\n"
      ],
      "id": "b91c3bc4",
      "execution_count": null,
      "outputs": []
    },
    {
      "cell_type": "code",
      "metadata": {},
      "source": [
        "#names(Biobank)"
      ],
      "id": "e3c610a5",
      "execution_count": null,
      "outputs": []
    },
    {
      "cell_type": "code",
      "metadata": {},
      "source": [
        "#ggplot(Biobank, aes(x=sex,y=sdai_m6)) +\n",
        "#  geom_boxplot()"
      ],
      "id": "2b665a0d",
      "execution_count": null,
      "outputs": []
    },
    {
      "cell_type": "code",
      "metadata": {},
      "source": [
        "plot <- ggplot(Biobank, aes(x=sdai_m12, color=sex)) +\n",
        "  geom_density()"
      ],
      "id": "4452936e",
      "execution_count": null,
      "outputs": []
    },
    {
      "cell_type": "code",
      "metadata": {},
      "source": [
        "X1 <- Biobank %>% filter(sex == 'Male') %>% select(sdai_m12)\n",
        "X2 <- Biobank %>% filter(sex == 'Female') %>% select(sdai_m12)\n",
        "#as.matrix(X1)\n",
        "fit1 <- kde1d(as.matrix(X1))\n",
        "fit2 <- kde1d(as.matrix(X2))\n",
        "d1 <- dkde1d(0, fit1)\n",
        "d2 <- dkde1d(0, fit2)\n",
        "\n",
        "P1<-(fit1$grid_points)\n",
        "P2<-(fit2$grid_points)\n",
        "#d1\n",
        "x <- list(X1=P1,X2=P2)\n",
        "plot(fit1)\n",
        "plot(fit2)\n",
        "abs_diff <- overlap(x,plot=TRUE)\n",
        "abs_diff"
      ],
      "id": "509c0715",
      "execution_count": null,
      "outputs": []
    },
    {
      "cell_type": "code",
      "metadata": {},
      "source": [
        "#mutinformation(Xbefore, Xafter, method=\"emp\")"
      ],
      "id": "5e81902f",
      "execution_count": null,
      "outputs": []
    },
    {
      "cell_type": "code",
      "metadata": {},
      "source": [
        "ggplot(Biobank, aes(x=cohort_name)) +\n",
        "  geom_boxplot()"
      ],
      "id": "c199d0c9",
      "execution_count": null,
      "outputs": []
    },
    {
      "cell_type": "markdown",
      "metadata": {},
      "source": [
        "Preprocessing\n"
      ],
      "id": "b099751d"
    },
    {
      "cell_type": "code",
      "metadata": {},
      "source": [
        "#Preprocessing\n",
        "baselineCovariates <- c('antiCCP', 'current_smoker_latest',\n",
        "       'sjc28_m0', 'tjc28_m0','pga_m0', 'crp_m0','ega_m0','pain_m0',\n",
        "        'sex','erosive_status_baseline','haq_m0','fatigue_m0',\n",
        "        'age',\n",
        "        'Igm_rf')"
      ],
      "id": "79d2955e",
      "execution_count": null,
      "outputs": []
    },
    {
      "cell_type": "code",
      "metadata": {},
      "source": [
        "table(Biobank$sex)"
      ],
      "id": "bf90e4c6",
      "execution_count": null,
      "outputs": []
    },
    {
      "cell_type": "markdown",
      "metadata": {},
      "source": [
        "The `echo: false` option disables the printing of code (only output is displayed)."
      ],
      "id": "0bd168fb"
    }
  ],
  "metadata": {
    "kernelspec": {
      "name": "ir",
      "language": "R",
      "display_name": "R"
    }
  },
  "nbformat": 4,
  "nbformat_minor": 5
}